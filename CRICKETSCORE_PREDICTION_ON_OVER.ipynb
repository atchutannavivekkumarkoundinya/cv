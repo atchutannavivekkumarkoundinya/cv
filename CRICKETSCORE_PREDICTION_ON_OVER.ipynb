{
  "nbformat": 4,
  "nbformat_minor": 0,
  "metadata": {
    "colab": {
      "provenance": [],
      "collapsed_sections": [],
      "authorship_tag": "ABX9TyMfoDsq/lBZNGolHudvWn0N",
      "include_colab_link": true
    },
    "kernelspec": {
      "display_name": "Python 3",
      "name": "python3"
    },
    "language_info": {
      "name": "python"
    }
  },
  "cells": [
    {
      "cell_type": "markdown",
      "metadata": {
        "id": "view-in-github",
        "colab_type": "text"
      },
      "source": [
        "<a href=\"https://colab.research.google.com/github/atchutannavivekkumarkoundinya/cv/blob/main/CRICKETSCORE_PREDICTION_ON_OVER.ipynb\" target=\"_parent\"><img src=\"https://colab.research.google.com/assets/colab-badge.svg\" alt=\"Open In Colab\"/></a>"
      ]
    },
    {
      "cell_type": "markdown",
      "metadata": {
        "id": "BnR55Q9K-XLk"
      },
      "source": [
        "libraries"
      ]
    },
    {
      "cell_type": "code",
      "metadata": {
        "id": "IAH_jeuQgxwt"
      },
      "source": [
        "import pandas as pd \n",
        "import numpy as np "
      ],
      "execution_count": null,
      "outputs": []
    },
    {
      "cell_type": "markdown",
      "metadata": {
        "id": "9qzXGSxJ9xNj"
      },
      "source": [
        "cricket prediction is own created data \n"
      ]
    },
    {
      "cell_type": "code",
      "metadata": {
        "id": "TXx-5cg20iFe"
      },
      "source": [
        "data = pd.read_csv('cricket_prediction.csv')\n",
        "print(data)"
      ],
      "execution_count": null,
      "outputs": []
    },
    {
      "cell_type": "markdown",
      "metadata": {
        "id": "tbfTe3tf9_Bb"
      },
      "source": [
        "sklearn is used to include exsiting algorithm into code \n",
        " || ex : we included LinearRegression"
      ]
    },
    {
      "cell_type": "code",
      "metadata": {
        "id": "Yz4ux5hB3kgr"
      },
      "source": [
        "from sklearn.linear_model import LinearRegression"
      ],
      "execution_count": null,
      "outputs": []
    },
    {
      "cell_type": "markdown",
      "metadata": {
        "id": "yUCifRlc-fRK"
      },
      "source": [
        "import plotly.express as px\n",
        "is used to represent the data on graph"
      ]
    },
    {
      "cell_type": "code",
      "metadata": {
        "id": "O1yELa-S4NnK"
      },
      "source": [
        "import plotly.express as px\n",
        "fig = px.scatter(data, x = 'OVERS',y = 'SCORE')\n",
        "fig.show()"
      ],
      "execution_count": null,
      "outputs": []
    },
    {
      "cell_type": "code",
      "metadata": {
        "id": "2moQwOoi4k-R"
      },
      "source": [
        "formula =  LinearRegression()\n",
        "x = data.OVERS.values.reshape(-1,1)\n",
        "y = data.SCORE.values.reshape(-1,1)"
      ],
      "execution_count": null,
      "outputs": []
    },
    {
      "cell_type": "code",
      "metadata": {
        "id": "YvuGHZOS5383"
      },
      "source": [
        "print(x)"
      ],
      "execution_count": null,
      "outputs": []
    },
    {
      "cell_type": "code",
      "metadata": {
        "id": "Ja5pW5l756N-"
      },
      "source": [
        "print(y)"
      ],
      "execution_count": null,
      "outputs": []
    },
    {
      "cell_type": "code",
      "metadata": {
        "id": "O4Mavo2T58Vd"
      },
      "source": [
        "formula.fit(x,y)"
      ],
      "execution_count": null,
      "outputs": []
    },
    {
      "cell_type": "code",
      "metadata": {
        "id": "sZNWTVkb6mL5"
      },
      "source": [
        "overno = int(input(\"enter over number : \"))"
      ],
      "execution_count": null,
      "outputs": []
    },
    {
      "cell_type": "code",
      "metadata": {
        "id": "Q4ZScdhz6CyB"
      },
      "source": [
        " predictionscore = formula.predict([[overno]])\n",
        " print(int(predictionscore))"
      ],
      "execution_count": null,
      "outputs": []
    }
  ]
}